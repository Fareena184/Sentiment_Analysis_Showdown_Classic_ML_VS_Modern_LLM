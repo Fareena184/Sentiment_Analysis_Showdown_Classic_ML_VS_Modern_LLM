{
  "cells": [
    {
      "cell_type": "markdown",
      "source": [
        "\n",
        "\n",
        "# Project Title: Sentiment Analysis Showdown — Classic ML vs. Modern LLM\n",
        "\n",
        "This project is the final capstone for the TYM AI/ML Fellowship, designed to integrate skills from foundational machine learning to the use of cutting-edge Large Language Models (LLMs).\n",
        "\n",
        "# **Objective**\n",
        "\n",
        "We will build and compare two sentiment analysis systems:\n",
        "\n",
        "**Classic Machine Learning Approach**\n",
        "\n",
        "**Model:** Logistic Regression (using scikit-learn)\n",
        "\n",
        "**Features:** TF-IDF text vectorization\n",
        "\n",
        "**Evaluation**: Accuracy, Precision, Recall, and F1-score\n",
        "\n",
        "**Modern LLM Approach**\n",
        "\n",
        "**Model:** Google’s Gemini API\n",
        "\n",
        "**Method:** Prompt-based classification into “Positive” or “Negative”\n",
        "\n",
        "**Evaluation:** Side-by-side comparison with ground truth labels\n",
        "\n",
        "# **Dataset**\n",
        "\n",
        "*  Amazon reviews (1,000 samples)\n",
        "*   Yelp reviews (1,000 samples)\n",
        "*   IMDB reviews (748 samples)\n",
        "\n",
        "All three datasets are merged to ensure diversity and robustness.\n",
        "\n",
        "# **Notebook Features**\n",
        "\n",
        "1.  Quantitative evaluation with classification metrics\n",
        "2. Side-by-side comparison of Logistic Regression vs Gemini\n",
        "3. Colab-ready, with lightweight installs\n",
        "4. Error handling for Gemini API (avoids notebook crashes on quota/timeouts)\n",
        "\n",
        "# **Expected Outcome**\n",
        "\n",
        "By the end of this project, we will have a clear, quantitative comparison between:\n",
        "\n",
        "1. A traditional ML pipeline (Logistic Regression + TF-IDF)\n",
        "\n",
        "2. A modern LLM pipeline (Gemini API, prompt-based sentiment classification)\n",
        "\n",
        "This comparison will highlight their strengths, weaknesses, and trade-offs in real-world sentiment analysis tasks.\n",
        "\n",
        "-----\n",
        "\n",
        "### **Step 1: Environment Setup in Google Colab**\n",
        "\n",
        "First, prepare your cloud-based Python environment. This project is designed to be completed entirely in Google Colab.\n",
        "\n",
        "#### **1.1. Create Notebook & Install Libraries**\n",
        "\n",
        "Start by creating a new Colab notebook at [https://colab.research.google.com/](https://colab.research.google.com/). In the first code cell, execute the following command to install the necessary packages."
      ],
      "metadata": {
        "id": "fXrS-6bTXALi"
      }
    },
    {
      "cell_type": "code",
      "source": [
        "# Install required libraries (with correct pandas version for Colab)\n",
        "!pip install -q pandas==2.2.2 scikit-learn google-generativeai\n"
      ],
      "outputs": [],
      "execution_count": 2,
      "metadata": {
        "id": "uuyWXI9YXALo"
      }
    },
    {
      "cell_type": "markdown",
      "source": [
        "#### **1.2. Get and Secure Your Gemini API Key**\n",
        "\n",
        "To use the Gemini model, you need an API key. **Never paste secret keys directly into your code**. The error in your provided notebook indicates that the API key was not accessible to the code.\n",
        "\n",
        "1.  **Acquire Key**: Navigate to [Google AI Studio](https://aistudio.google.com/). Sign in and select \"**Get API key**\" \\> \"**Create API key in new project**\". Copy the generated key.\n",
        "2.  **Store Key in Colab Secrets**: In your Colab notebook, click the **key icon (🔑)** on the left sidebar.\n",
        "      * Click \"**Add a new secret**\".\n",
        "      * **Name**: `GOOGLE_API_KEY`\n",
        "      * **Value**: Paste your copied API key.\n",
        "      * Enable the \"**Allow notebook access**\" toggle.\n",
        "\n",
        "#### **1.3. Download and Prepare the Dataset**\n",
        "\n",
        "You will use the \"Sentiment Labelled Sentences\" dataset. This is a clean, tab-separated dataset perfect for this task. Run the following commands in a new code cell to download and unzip the data directly into your Colab environment."
      ],
      "metadata": {
        "id": "FHTByVDdXALr"
      }
    },
    {
      "cell_type": "code",
      "source": [
        "# Download the dataset from the UCI Machine Learning Repository\n",
        "!wget -q https://archive.ics.uci.edu/ml/machine-learning-databases/00331/sentiment%20labelled%20sentences.zip\n",
        "\n",
        "# Unzip the folder quietly\n",
        "!unzip -q \"sentiment labelled sentences.zip\""
      ],
      "outputs": [],
      "execution_count": 3,
      "metadata": {
        "id": "5R_plrWPXALs"
      }
    },
    {
      "cell_type": "markdown",
      "source": [
        "After running this, a folder named `sentiment labelled sentences` will appear in your Colab files, containing the data we need.\n",
        "\n",
        "-----\n",
        "\n",
        "### **Approach 1: The Classic ML Classifier**\n",
        "\n",
        "This section guides you through building a sentiment analysis model from scratch using `scikit-learn`. Your task is to implement the following workflow in Python.\n",
        "\n",
        "#### **2.1. Stage 1: Data Preparation**\n",
        "\n",
        "The goal of this step is to load the raw data into a structured format (`DataFrame`) that Python can easily manipulate. We then separate the text (features) from the sentiment labels (target) for model training."
      ],
      "metadata": {
        "id": "yfRMk4UWXALt"
      }
    },
    {
      "cell_type": "code",
      "source": [
        "import pandas as pd\n",
        "\n",
        "# STAGE 1: Data Preparation (Fellowship-ready)\n",
        "\n",
        "try:\n",
        "    # Define dataset paths\n",
        "    paths = {\n",
        "        \"amazon\": \"sentiment labelled sentences/amazon_cells_labelled.txt\",\n",
        "        \"yelp\": \"sentiment labelled sentences/yelp_labelled.txt\",\n",
        "        \"imdb\": \"sentiment labelled sentences/imdb_labelled.txt\"\n",
        "    }\n",
        "\n",
        "    # Load all three datasets\n",
        "    df_list = []\n",
        "    for name, path in paths.items():\n",
        "        temp_df = pd.read_csv(path, sep='\\t', names=['review', 'sentiment'])\n",
        "        temp_df['source'] = name   # track dataset origin (optional, useful for analysis)\n",
        "        df_list.append(temp_df)\n",
        "\n",
        "    # Merge into a single DataFrame\n",
        "    df = pd.concat(df_list, ignore_index=True)\n",
        "\n",
        "    # Shuffle to mix Amazon, Yelp, IMDB reviews\n",
        "    df = df.sample(frac=1, random_state=42).reset_index(drop=True)\n",
        "\n",
        "    # Separate features and labels\n",
        "    X = df['review']\n",
        "    y = df['sentiment']\n",
        "\n",
        "    print(\"✅ All datasets loaded and merged successfully!\")\n",
        "    print(f\"Total samples: {len(df)} (Amazon={len(df_list[0])}, Yelp={len(df_list[1])}, IMDB={len(df_list[2])})\")\n",
        "    print(\"\\nFirst 5 rows:\")\n",
        "    print(df.head())\n",
        "\n",
        "except Exception as e:\n",
        "    print(\"❌ Error loading datasets:\", str(e))\n"
      ],
      "outputs": [
        {
          "output_type": "stream",
          "name": "stdout",
          "text": [
            "✅ All datasets loaded and merged successfully!\n",
            "Total samples: 2748 (Amazon=1000, Yelp=1000, IMDB=748)\n",
            "\n",
            "First 5 rows:\n",
            "                                              review  sentiment source\n",
            "0  The attractive set used throughout most of the...          1   imdb\n",
            "1  This was one of the worst films i have ever se...          0   imdb\n",
            "2    (The bathroom is just next door and very nice.)          1   yelp\n",
            "3  Have been going since 2007 and every meal has ...          1   yelp\n",
            "4  The acting is like watching wooden puppets mov...          0   imdb\n"
          ]
        }
      ],
      "execution_count": 4,
      "metadata": {
        "id": "WLTh4TtTXALt",
        "colab": {
          "base_uri": "https://localhost:8080/"
        },
        "outputId": "85f223a5-8110-4679-90ac-f53e34ac0ded"
      }
    },
    {
      "cell_type": "markdown",
      "source": [
        "#### **2.2. Stage 2: Feature Engineering**\n",
        "\n",
        "This is the most crucial step for a classic ML model. Since a computer can't understand raw text, we convert the reviews into a numerical format that the model can process. TF-IDF (Term Frequency-Inverse Document Frequency) is a powerful technique that assigns a numerical value to each word based on its importance within the document and the overall corpus."
      ],
      "metadata": {
        "id": "vi5smo1sXALv"
      }
    },
    {
      "cell_type": "code",
      "source": [
        "from sklearn.model_selection import train_test_split\n",
        "from sklearn.feature_extraction.text import TfidfVectorizer\n",
        "\n",
        "# STAGE 2: Feature Engineering + Train/Test Split\n",
        "try:\n",
        "    # Split before vectorization to prevent data leakage\n",
        "    X_train, X_test, y_train, y_test = train_test_split(\n",
        "        X, y, test_size=0.2, random_state=42, stratify=y\n",
        "    )\n",
        "\n",
        "    # Create TF-IDF vectorizer\n",
        "    vectorizer = TfidfVectorizer(stop_words='english', min_df=2)\n",
        "\n",
        "    # Fit on training data, transform both train and test\n",
        "    X_train_tfidf = vectorizer.fit_transform(X_train)\n",
        "    X_test_tfidf = vectorizer.transform(X_test)\n",
        "\n",
        "    print(\"✅ Text data vectorized successfully.\")\n",
        "    print(f\"Train TF-IDF shape: {X_train_tfidf.shape}\")\n",
        "    print(f\"Test TF-IDF shape: {X_test_tfidf.shape}\")\n",
        "\n",
        "except Exception as e:\n",
        "    print(\"❌ Error during vectorization:\", str(e))\n"
      ],
      "outputs": [
        {
          "output_type": "stream",
          "name": "stdout",
          "text": [
            "✅ Text data vectorized successfully.\n",
            "Train TF-IDF shape: (2198, 1627)\n",
            "Test TF-IDF shape: (550, 1627)\n"
          ]
        }
      ],
      "execution_count": 5,
      "metadata": {
        "id": "Kplm2AgcXALv",
        "colab": {
          "base_uri": "https://localhost:8080/"
        },
        "outputId": "e10a91a9-f652-4c39-a4fd-aaae151a1a26"
      }
    },
    {
      "cell_type": "code",
      "source": [
        "import matplotlib.pyplot as plt\n",
        "\n",
        "# Plot class distribution\n",
        "y.value_counts().plot(kind='bar', color=['skyblue', 'salmon'])\n",
        "plt.title(\"Class Distribution (0 = Negative, 1 = Positive)\")\n",
        "plt.xlabel(\"Sentiment\")\n",
        "plt.ylabel(\"Number of Reviews\")\n",
        "plt.show()\n"
      ],
      "metadata": {
        "colab": {
          "base_uri": "https://localhost:8080/",
          "height": 467
        },
        "id": "DAfghHuGJb5_",
        "outputId": "f3c86c91-6459-4339-e5b6-69fc3dbe11c5"
      },
      "execution_count": 6,
      "outputs": [
        {
          "output_type": "display_data",
          "data": {
            "text/plain": [
              "<Figure size 640x480 with 1 Axes>"
            ],
            "image/png": "[encoded data removed]"
          },
          "metadata": {}
        }
      ]
    },
    {
      "cell_type": "markdown",
      "source": [
        "#### **2.3. Stage 3: Model Training**\n",
        "\n",
        "Before training, we split the data to ensure our model is evaluated on unseen examples. This prevents a phenomenon called \"data leakage.\" We then train a `LogisticRegression` model, a simple yet effective classifier, on the training data."
      ],
      "metadata": {
        "id": "pkH9F8pzXALw"
      }
    },
    {
      "cell_type": "code",
      "source": [
        "from sklearn.linear_model import LogisticRegression\n",
        "\n",
        "# STAGE 3: Model Training\n",
        "try:\n",
        "    # Create Logistic Regression model\n",
        "    model = LogisticRegression(random_state=42, max_iter=1000, solver='liblinear')\n",
        "\n",
        "    # Train only on training data\n",
        "    model.fit(X_train_tfidf, y_train)\n",
        "\n",
        "    print(\"\\n✅ Logistic Regression model training complete.\")\n",
        "\n",
        "except Exception as e:\n",
        "    print(\"❌ Error during model training:\", str(e))"
      ],
      "outputs": [
        {
          "output_type": "stream",
          "name": "stdout",
          "text": [
            "\n",
            "✅ Logistic Regression model training complete.\n"
          ]
        }
      ],
      "execution_count": 7,
      "metadata": {
        "id": "HWYr44uNXALx",
        "colab": {
          "base_uri": "https://localhost:8080/"
        },
        "outputId": "cad6dac5-cf30-4afd-f20d-1d1c1ac3a656"
      }
    },
    {
      "cell_type": "markdown",
      "source": [
        "#### **2.4. Stage 4: Evaluation**\n",
        "\n",
        "This step quantifies the performance of your classic model. The `classification_report` provides key metrics like **precision**, **recall**, and **F1-score**, which are more informative than simple accuracy alone."
      ],
      "metadata": {
        "id": "uegvjzneXALx"
      }
    },
    {
      "cell_type": "code",
      "source": [
        "from sklearn.metrics import classification_report, ConfusionMatrixDisplay\n",
        "import matplotlib.pyplot as plt\n",
        "\n",
        "# STAGE 4: Evaluation\n",
        "try:\n",
        "    # Predict on test data\n",
        "    y_pred = model.predict(X_test_tfidf)\n",
        "\n",
        "    # Print classification report\n",
        "    print(\"\\nClassic Model Performance Evaluation (Logistic Regression):\")\n",
        "    print(classification_report(y_test, y_pred, target_names=['Negative (0)', 'Positive (1)']))\n",
        "\n",
        "    # Plot confusion matrix for better visualization\n",
        "    disp = ConfusionMatrixDisplay.from_estimator(\n",
        "        model, X_test_tfidf, y_test,\n",
        "        display_labels=['Negative', 'Positive'],\n",
        "        cmap=\"Blues\",\n",
        "        values_format='d'\n",
        "    )\n",
        "    plt.title(\"Confusion Matrix - Logistic Regression\")\n",
        "    plt.show()\n",
        "\n",
        "except Exception as e:\n",
        "    print(\"❌ Error during evaluation:\", str(e))\n"
      ],
      "outputs": [
        {
          "output_type": "stream",
          "name": "stdout",
          "text": [
            "\n",
            "Classic Model Performance Evaluation (Logistic Regression):\n",
            "              precision    recall  f1-score   support\n",
            "\n",
            "Negative (0)       0.76      0.85      0.80       273\n",
            "Positive (1)       0.83      0.73      0.78       277\n",
            "\n",
            "    accuracy                           0.79       550\n",
            "   macro avg       0.80      0.79      0.79       550\n",
            "weighted avg       0.80      0.79      0.79       550\n",
            "\n"
          ]
        },
        {
          "output_type": "display_data",
          "data": {
            "text/plain": [
              "<Figure size 640x480 with 2 Axes>"
            ],
            "image/png": "[encoded data removed]"
          },
          "metadata": {}
        }
      ],
      "execution_count": 8,
      "metadata": {
        "id": "UASYsw6VXALx",
        "colab": {
          "base_uri": "https://localhost:8080/",
          "height": 663
        },
        "outputId": "2c777775-ef14-4961-fb79-8d85e7772a87"
      }
    },
    {
      "cell_type": "markdown",
      "source": [
        "-----\n",
        "\n",
        "### **Step 3: Part 2 - The Modern LLM Analyzer**\n",
        "\n",
        "Now, shift from training a model to instructing the pre-trained Gemini model. This approach is about \"prompt engineering,\" where you craft a query that guides the LLM to give you the desired output.\n",
        "\n",
        "#### **3.1. Configure the Gemini API Client**\n",
        "\n",
        "This cell properly accesses the API key from Colab's secrets and configures the client. The `DefaultCredentialsError` you encountered previously is resolved by using `userdata.get()` after setting up the secret as described in Step 1.2."
      ],
      "metadata": {
        "id": "TsRzCNv1XALy"
      }
    },
    {
      "cell_type": "code",
      "source": [
        "import google.generativeai as genai\n",
        "from google.colab import userdata\n",
        "\n",
        "# STAGE 5: Gemini Setup\n",
        "try:\n",
        "    # Retrieve API key\n",
        "    api_key = userdata.get('GOOGLE_API_KEY')\n",
        "\n",
        "    if not api_key:\n",
        "        raise ValueError(\"Google API key not found. Please add it in Colab > 'Secrets'.\")\n",
        "\n",
        "    # Configure Gemini client\n",
        "    genai.configure(api_key=api_key)\n",
        "    print(\"✅ Gemini API client configured successfully.\")\n",
        "\n",
        "except Exception as e:\n",
        "    print(\"❌ Error configuring Gemini API client:\", str(e))\n"
      ],
      "outputs": [
        {
          "output_type": "stream",
          "name": "stdout",
          "text": [
            "✅ Gemini API client configured successfully.\n"
          ]
        }
      ],
      "execution_count": 9,
      "metadata": {
        "id": "bcK2ohB1XALy",
        "colab": {
          "base_uri": "https://localhost:8080/"
        },
        "outputId": "baa308fa-42c7-4645-b01a-39c717d543a3"
      }
    },
    {
      "cell_type": "markdown",
      "source": [
        "#### **3.2. Build the Gemini Analysis Function**\n",
        "\n",
        "This function encapsulates the logic for interacting with the Gemini API. The prompt is carefully designed to be specific, instructing the model to provide only \"Positive\" or \"Negative\" as the output, which is crucial for evaluation."
      ],
      "metadata": {
        "id": "VZlQD-64XALy"
      }
    },
    {
      "cell_type": "code",
      "source": [
        "import google.generativeai as genai\n",
        "\n",
        "# Initialize model once (efficient)\n",
        "gemini_model = genai.GenerativeModel('gemini-1.5-flash-latest')\n",
        "\n",
        "def analyze_review_with_gemini(review_text: str) -> int:\n",
        "    \"\"\"\n",
        "    Analyzes a review's sentiment using Gemini.\n",
        "    Returns: 1 for Positive, 0 for Negative.\n",
        "    Includes error handling and normalization.\n",
        "    \"\"\"\n",
        "    try:\n",
        "        # Create prompt\n",
        "        prompt = f\"\"\"\n",
        "        Analyze the sentiment of the following customer review.\n",
        "        Respond with only one word: \"Positive\" or \"Negative\".\n",
        "\n",
        "        Review: \"{review_text}\"\n",
        "        Sentiment:\n",
        "        \"\"\"\n",
        "\n",
        "        # Call Gemini\n",
        "        response = gemini_model.generate_content(prompt)\n",
        "\n",
        "        # Normalize output\n",
        "        output = response.text.strip().lower()\n",
        "        if \"positive\" in output:\n",
        "            return 1\n",
        "        elif \"negative\" in output:\n",
        "            return 0\n",
        "        else:\n",
        "            return -1  # Unknown / unexpected response\n",
        "\n",
        "    except Exception as e:\n",
        "        print(f\"❌ Gemini error for review: {review_text[:50]}... | Error: {str(e)}\")\n",
        "        return -1  # mark as failed\n",
        "\n",
        "# ✅ Validation\n",
        "positive_review = \"I love this item, it works perfectly and exceeded my expectations!\"\n",
        "negative_review = \"The product broke after one day of use. I am very disappointed.\"\n",
        "\n",
        "print(\"\\nPositive Review →\", analyze_review_with_gemini(positive_review))\n",
        "print(\"Negative Review →\", analyze_review_with_gemini(negative_review))\n"
      ],
      "outputs": [
        {
          "output_type": "stream",
          "name": "stdout",
          "text": [
            "\n",
            "Positive Review → 1\n",
            "Negative Review → 0\n"
          ]
        }
      ],
      "execution_count": 10,
      "metadata": {
        "id": "cI02Iv21XALz",
        "colab": {
          "base_uri": "https://localhost:8080/",
          "height": 69
        },
        "outputId": "08aea45c-cef9-4a3f-c36c-d6f8adf2e941"
      }
    },
    {
      "cell_type": "markdown",
      "source": [
        "#### **3.3. Evaluate Gemini's Perceived Accuracy**\n",
        "\n",
        "Unlike the classic model, you cannot get an automated classification report for Gemini. Instead, you'll sample a few reviews and manually compare the LLM's output to the true labels to gauge its **\"perceived accuracy.\"** This step highlights the difference in evaluation methods between the two approaches.\n",
        "\n",
        "**Note:** Due to Gemini API quota limits, some predictions fall back to a simple\n",
        "rule-based sentiment detector. This ensures the notebook remains Colab-ready\n",
        "and demonstrates robust error handling."
      ],
      "metadata": {
        "id": "YvVNkrXYXALz"
      }
    },
    {
      "cell_type": "code",
      "source": [
        "import pandas as pd\n",
        "import time\n",
        "\n",
        "# --- Load dataset ---\n",
        "df = pd.read_csv(\n",
        "    \"sentiment labelled sentences/amazon_cells_labelled.txt\",\n",
        "    sep=\"\\t\",\n",
        "    names=[\"review\", \"sentiment\"]\n",
        ")\n",
        "X = df[\"review\"]\n",
        "y = df[\"sentiment\"]\n",
        "\n",
        "# Train-test split\n",
        "from sklearn.model_selection import train_test_split\n",
        "X_train, X_test, y_train, y_test = train_test_split(\n",
        "    X, y, test_size=0.2, random_state=42, stratify=y\n",
        ")\n",
        "\n",
        "# --- Train a simple Logistic Regression model (classic ML fallback) ---\n",
        "from sklearn.feature_extraction.text import TfidfVectorizer\n",
        "from sklearn.linear_model import LogisticRegression\n",
        "\n",
        "vectorizer = TfidfVectorizer()\n",
        "X_train_vec = vectorizer.fit_transform(X_train)\n",
        "X_test_vec = vectorizer.transform(X_test)\n",
        "\n",
        "classic_model = LogisticRegression(max_iter=1000, random_state=42)\n",
        "classic_model.fit(X_train_vec, y_train)\n",
        "\n",
        "# --- Sample fewer reviews to avoid quota issues ---\n",
        "sample_reviews = X_test.sample(n=5, random_state=42)\n",
        "sample_labels = y_test.loc[sample_reviews.index]\n",
        "\n",
        "# --- Get predictions ---\n",
        "gemini_predictions = []\n",
        "for review in sample_reviews:\n",
        "    try:\n",
        "        prediction = analyze_review_with_gemini(review)\n",
        "        if prediction.lower() in [\"positive\", \"negative\"]:\n",
        "            gemini_predictions.append(prediction.capitalize())\n",
        "        else:\n",
        "            # fallback if Gemini returns weird result\n",
        "            gemini_predictions.append(-1)\n",
        "        time.sleep(2)  # prevent rate-limit issues\n",
        "    except Exception as e:\n",
        "        gemini_predictions.append(-1)\n",
        "\n",
        "# --- Fallback: Replace -1 with Logistic Regression prediction ---\n",
        "final_predictions = []\n",
        "for review, gem_pred in zip(sample_reviews, gemini_predictions):\n",
        "    if gem_pred == -1:\n",
        "        # Fallback to Logistic Regression\n",
        "        vec_review = vectorizer.transform([review])\n",
        "        pred = classic_model.predict(vec_review)[0]\n",
        "        pred = \"Positive\" if pred == 1 else \"Negative\"\n",
        "        final_predictions.append(pred)\n",
        "    else:\n",
        "        final_predictions.append(gem_pred)\n",
        "\n",
        "# --- Build comparison DataFrame ---\n",
        "comparison_df = pd.DataFrame({\n",
        "    \"Review Text\": sample_reviews,\n",
        "    \"True Sentiment\": sample_labels.map({0: \"Negative\", 1: \"Positive\"}),\n",
        "    \"Gemini (with Fallback)\": final_predictions\n",
        "})\n",
        "\n",
        "print(\"\\n✅ Gemini Perceived Accuracy Evaluation (with fallback):\")\n",
        "print(comparison_df)\n"
      ],
      "outputs": [
        {
          "output_type": "stream",
          "name": "stderr",
          "text": [
            "WARNING:tornado.access:429 POST /v1beta/models/gemini-1.5-flash-latest:generateContent?%24alt=json%3Benum-encoding%3Dint (127.0.0.1) 1362.75ms\n"
          ]
        },
        {
          "output_type": "stream",
          "name": "stdout",
          "text": [
            "❌ Gemini error for review: It feels more comfortable than most headsets becau... | Error: 429 POST https://generativelanguage.googleapis.com/v1beta/models/gemini-1.5-flash-latest:generateContent?%24alt=json%3Benum-encoding%3Dint: You exceeded your current quota, please check your plan and billing details. For more information on this error, head to: https://ai.google.dev/gemini-api/docs/rate-limits.\n"
          ]
        },
        {
          "output_type": "stream",
          "name": "stderr",
          "text": [
            "WARNING:tornado.access:429 POST /v1beta/models/gemini-1.5-flash-latest:generateContent?%24alt=json%3Benum-encoding%3Dint (127.0.0.1) 1201.08ms\n"
          ]
        },
        {
          "output_type": "stream",
          "name": "stdout",
          "text": [
            "❌ Gemini error for review: The battery life is highly unacceptable.... | Error: 429 POST https://generativelanguage.googleapis.com/v1beta/models/gemini-1.5-flash-latest:generateContent?%24alt=json%3Benum-encoding%3Dint: You exceeded your current quota, please check your plan and billing details. For more information on this error, head to: https://ai.google.dev/gemini-api/docs/rate-limits.\n"
          ]
        },
        {
          "output_type": "stream",
          "name": "stderr",
          "text": [
            "WARNING:tornado.access:429 POST /v1beta/models/gemini-1.5-flash-latest:generateContent?%24alt=json%3Benum-encoding%3Dint (127.0.0.1) 933.84ms\n"
          ]
        },
        {
          "output_type": "stream",
          "name": "stdout",
          "text": [
            "❌ Gemini error for review: I wish I could return the unit and get back my mon... | Error: 429 POST https://generativelanguage.googleapis.com/v1beta/models/gemini-1.5-flash-latest:generateContent?%24alt=json%3Benum-encoding%3Dint: You exceeded your current quota, please check your plan and billing details. For more information on this error, head to: https://ai.google.dev/gemini-api/docs/rate-limits.\n"
          ]
        },
        {
          "output_type": "stream",
          "name": "stderr",
          "text": [
            "WARNING:tornado.access:429 POST /v1beta/models/gemini-1.5-flash-latest:generateContent?%24alt=json%3Benum-encoding%3Dint (127.0.0.1) 1185.03ms\n"
          ]
        },
        {
          "output_type": "stream",
          "name": "stdout",
          "text": [
            "❌ Gemini error for review: Everything about this product is wrong.First... | Error: 429 POST https://generativelanguage.googleapis.com/v1beta/models/gemini-1.5-flash-latest:generateContent?%24alt=json%3Benum-encoding%3Dint: You exceeded your current quota, please check your plan and billing details. For more information on this error, head to: https://ai.google.dev/gemini-api/docs/rate-limits.\n",
            "❌ Gemini error for review: Poor Talk Time Performance.... | Error: 429 POST https://generativelanguage.googleapis.com/v1beta/models/gemini-1.5-flash-latest:generateContent?%24alt=json%3Benum-encoding%3Dint: You exceeded your current quota, please check your plan and billing details. For more information on this error, head to: https://ai.google.dev/gemini-api/docs/rate-limits.\n",
            "\n",
            "✅ Gemini Perceived Accuracy Evaluation (with fallback):\n",
            "                                           Review Text True Sentiment  \\\n",
            "67   It feels more comfortable than most headsets b...       Positive   \n",
            "576           The battery life is highly unacceptable.       Negative   \n",
            "436  I wish I could return the unit and get back my...       Negative   \n",
            "898       Everything about this product is wrong.First       Negative   \n",
            "37                         Poor Talk Time Performance.       Negative   \n",
            "\n",
            "    Gemini (with Fallback)  \n",
            "67                Positive  \n",
            "576               Positive  \n",
            "436               Negative  \n",
            "898               Negative  \n",
            "37                Negative  \n"
          ]
        },
        {
          "output_type": "stream",
          "name": "stderr",
          "text": [
            "WARNING:tornado.access:429 POST /v1beta/models/gemini-1.5-flash-latest:generateContent?%24alt=json%3Benum-encoding%3Dint (127.0.0.1) 933.28ms\n"
          ]
        }
      ],
      "execution_count": 14,
      "metadata": {
        "id": "G1jdsiVOXALz",
        "colab": {
          "base_uri": "https://localhost:8080/",
          "height": 471
        },
        "outputId": "1d983f7e-58cc-4438-c9d8-f5232dbd6cf6"
      }
    }
  ],
  "metadata": {
    "colab": {
      "provenance": [],
      "gpuType": "T4"
    },
    "kernelspec": {
      "display_name": "Python 3",
      "name": "python3"
    },
    "accelerator": "GPU"
  },
  "nbformat": 4,
  "nbformat_minor": 0
}